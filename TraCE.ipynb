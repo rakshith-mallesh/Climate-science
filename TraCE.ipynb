{
 "cells": [
  {
   "cell_type": "code",
   "execution_count": null,
   "id": "47a38488",
   "metadata": {},
   "outputs": [],
   "source": []
  },
  {
   "cell_type": "code",
   "execution_count": 17,
   "id": "f10cda45",
   "metadata": {},
   "outputs": [],
   "source": [
    "import netCDF4\n",
    "import numpy as np\n",
    "import matplotlib.pyplot as plt\n",
    "a = '/media/rakshith/Seagate Expansion Drive/TraCE/T/trace.36.400BP-1990CE.cam2.h0.T.2160101-2204012.nc'\n",
    "#a = '/media/rakshith/Seagate Expansion Drive/TraCE/PRECL/trace.01.22000-20001BP.cam2.h0.PRECL.0000101-0200012.nc'\n",
    "f1 = netCDF4.Dataset(a)"
   ]
  },
  {
   "cell_type": "code",
   "execution_count": 18,
   "id": "0785920f",
   "metadata": {},
   "outputs": [
    {
     "data": {
      "text/plain": [
       "dict_keys(['P0', 'T', 'co2vmr', 'date', 'date_written', 'datesec', 'gw', 'hyai', 'hyam', 'hybi', 'hybm', 'ilev', 'isccp_prs', 'isccp_prstau', 'isccp_tau', 'lat', 'lev', 'lon', 'mdt', 'nbdate', 'nbsec', 'ndbase', 'ndcur', 'nlon', 'nsbase', 'nscur', 'nsteph', 'ntrk', 'ntrm', 'ntrn', 'time', 'time_written', 'wnummax'])"
      ]
     },
     "execution_count": 18,
     "metadata": {},
     "output_type": "execute_result"
    }
   ],
   "source": [
    "f1.variables.keys()"
   ]
  },
  {
   "cell_type": "code",
   "execution_count": 29,
   "id": "90b1ff05",
   "metadata": {},
   "outputs": [
    {
     "data": {
      "text/plain": [
       "481"
      ]
     },
     "execution_count": 29,
     "metadata": {},
     "output_type": "execute_result"
    }
   ],
   "source": [
    "len(f1['time'][4799:])"
   ]
  },
  {
   "cell_type": "code",
   "execution_count": 35,
   "id": "acabe54a",
   "metadata": {},
   "outputs": [
    {
     "data": {
      "text/plain": [
       "<class 'netCDF4._netCDF4.Variable'>\n",
       "float32 T(time, lev, lat, lon)\n",
       "    units: K\n",
       "    long_name: Temperature\n",
       "    cell_method: time: mean\n",
       "unlimited dimensions: time\n",
       "current shape = (5280, 26, 48, 96)\n",
       "filling on, default _FillValue of 9.969209968386869e+36 used"
      ]
     },
     "execution_count": 35,
     "metadata": {},
     "output_type": "execute_result"
    }
   ],
   "source": [
    "f1['T'][]"
   ]
  },
  {
   "cell_type": "code",
   "execution_count": null,
   "id": "96c30200",
   "metadata": {},
   "outputs": [],
   "source": []
  }
 ],
 "metadata": {
  "kernelspec": {
   "display_name": "Python 3 (ipykernel)",
   "language": "python",
   "name": "python3"
  },
  "language_info": {
   "codemirror_mode": {
    "name": "ipython",
    "version": 3
   },
   "file_extension": ".py",
   "mimetype": "text/x-python",
   "name": "python",
   "nbconvert_exporter": "python",
   "pygments_lexer": "ipython3",
   "version": "3.10.8"
  }
 },
 "nbformat": 4,
 "nbformat_minor": 5
}
